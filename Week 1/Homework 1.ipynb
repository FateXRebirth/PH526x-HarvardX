{
 "cells": [
  {
   "cell_type": "markdown",
   "metadata": {},
   "source": [
    "# Exercise 1a\n",
    "\n",
    "- Import the string library.\n",
    "- Create a variable alphabet that consists of the lowercase and uppercase letters in the English alphabet using the ascii_letters attribute of the string library."
   ]
  },
  {
   "cell_type": "markdown",
   "metadata": {},
   "source": [
    "import string\n",
    "alphabet = string.ascii_letters\n",
    "print(alphabet)"
   ]
  },
  {
   "cell_type": "markdown",
   "metadata": {},
   "source": [
    "# Exercise 1b\n",
    "\n",
    "- The lower and upper cases of the English alphabet is stored as alphabet.\n",
    "- Consider the sentence 'Jim quickly realized that the beautiful gowns are expensive'. Create a dictionary count_letters with keys consisting of each unique letter in the sentence and values consisting of the number of times each letter is used in this sentence. Count both upper case and lower case letters separately in the dictionary."
   ]
  },
  {
   "cell_type": "code",
   "execution_count": 9,
   "metadata": {
    "collapsed": true
   },
   "outputs": [],
   "source": [
    "sentence = 'Jim quickly realized that the beautiful gowns are expensive'\n",
    "\n",
    "count_letters = {}\n",
    "#write your code here!\n",
    "\n",
    "for letter in sentence:\n",
    "    if letter in alphabet:\n",
    "        if letter not in count_letters.keys():\n",
    "            count_letters[letter] = 1\n",
    "        else:\n",
    "            count_letters[letter] += 1"
   ]
  },
  {
   "cell_type": "markdown",
   "metadata": {},
   "source": [
    "# Exercise 1c\n",
    "\n",
    "- Rewrite your code from 1b to make a function called counter that takes a string input_string and returns a dictionary of letter counts count_letters. If you were unable to complete 1b, you can use the solution by selecting Show Answer.\n",
    "- Use your function to call counter(sentence)."
   ]
  },
  {
   "cell_type": "code",
   "execution_count": 10,
   "metadata": {
    "collapsed": false
   },
   "outputs": [
    {
     "data": {
      "text/plain": [
       "{'J': 1,\n",
       " 'a': 4,\n",
       " 'b': 1,\n",
       " 'c': 1,\n",
       " 'd': 1,\n",
       " 'e': 8,\n",
       " 'f': 1,\n",
       " 'g': 1,\n",
       " 'h': 2,\n",
       " 'i': 5,\n",
       " 'k': 1,\n",
       " 'l': 3,\n",
       " 'm': 1,\n",
       " 'n': 2,\n",
       " 'o': 1,\n",
       " 'p': 1,\n",
       " 'q': 1,\n",
       " 'r': 2,\n",
       " 's': 2,\n",
       " 't': 4,\n",
       " 'u': 3,\n",
       " 'v': 1,\n",
       " 'w': 1,\n",
       " 'x': 1,\n",
       " 'y': 1,\n",
       " 'z': 1}"
      ]
     },
     "execution_count": 10,
     "metadata": {},
     "output_type": "execute_result"
    }
   ],
   "source": [
    "sentence = 'Jim quickly realized that the beautiful gowns are expensive'\n",
    "\n",
    "# Create your function here!\n",
    "def counter(input_string):\n",
    "    count_letters = {}\n",
    "    for letter in input_string:\n",
    "        if letter in alphabet:\n",
    "            if letter not in count_letters.keys():\n",
    "                count_letters[letter] = 1\n",
    "            else:\n",
    "                count_letters[letter] += 1\n",
    "    return count_letters\n",
    "\n",
    "\n",
    "counter(sentence)"
   ]
  },
  {
   "cell_type": "markdown",
   "metadata": {},
   "source": [
    "# Exercise 1d\n",
    "\n",
    "- Abraham Lincoln was a president during the American Civil War. His famous 1863 Gettysburg Address has been stored as address, and the counter function defined in part 1c has been loaded. Use these to return a dictionary consisting of the count of each letter in this address, and save this as address_count.\n",
    "- Print address_count."
   ]
  },
  {
   "cell_type": "code",
   "execution_count": null,
   "metadata": {
    "collapsed": true
   },
   "outputs": [],
   "source": [
    "# Write your code here!\n",
    "\n",
    "address_count = counter(address)\n",
    "print(address_count)"
   ]
  },
  {
   "cell_type": "markdown",
   "metadata": {},
   "source": [
    "# Exercise 1e\n",
    "\n",
    "- The frequency of each letter in the Gettysburg Address is already stored as address_count. Use this dictionary to find the most common letter in the Gettysburg address.\n",
    "- Store this letter as most_frequent_letter, and print your answer."
   ]
  },
  {
   "cell_type": "code",
   "execution_count": null,
   "metadata": {
    "collapsed": true
   },
   "outputs": [],
   "source": [
    "# write your code here!\n",
    "max_count = 0\n",
    "for i in address_count:\n",
    "    if address_count[i] > max_count:\n",
    "        max_count = address_count[i]\n",
    "        most_frequent_letter = i\n",
    "print(most_frequent_letter)"
   ]
  },
  {
   "cell_type": "markdown",
   "metadata": {},
   "source": [
    "# Exercise 2a\n",
    "\n",
    "- Using the math library, calculate and print the value of pi / 4.\n"
   ]
  },
  {
   "cell_type": "code",
   "execution_count": null,
   "metadata": {
    "collapsed": true
   },
   "outputs": [],
   "source": [
    "# write your code here!\n",
    "import math\n",
    "print(math.pi/4)"
   ]
  },
  {
   "cell_type": "markdown",
   "metadata": {},
   "source": [
    "# Exercise 2b\n",
    "\n",
    "- Using random.uniform, create a function rand() that generates a single float between -1 and 1.\n",
    "- Call rand() once. So we can check your solution, we will use random.seed to fix the value called by your function."
   ]
  },
  {
   "cell_type": "code",
   "execution_count": null,
   "metadata": {
    "collapsed": true
   },
   "outputs": [],
   "source": [
    "import random\n",
    "\n",
    "random.seed(1) # This line fixes the value called by your function,\n",
    "               # and is used for answer-checking.\n",
    "\n",
    "def rand():\n",
    "   # define `rand` here!\n",
    "   return random.uniform(-1, 1)\n",
    "\n",
    "rand()"
   ]
  },
  {
   "cell_type": "markdown",
   "metadata": {},
   "source": [
    "# Exercise 2c\n",
    "- The distance between two points x and y is the square root of the sum of squared differences along each dimension of x and y. Create a function distance(x, y) that takes two vectors and outputs the distance between them. Use your function to find the distance between x=(0,0) and y=(1,1).\n",
    "- Print your answer."
   ]
  },
  {
   "cell_type": "code",
   "execution_count": null,
   "metadata": {
    "collapsed": true
   },
   "outputs": [],
   "source": [
    "import math\n",
    "\n",
    "def distance(x, y):\n",
    "   # define your function here!\n",
    "   return math.sqrt( (y[0]-x[0])**2 + (y[1]-x[1])**2 )\n",
    "   \n",
    "\n",
    "print(distance((0,0),(1,1)))"
   ]
  },
  {
   "cell_type": "markdown",
   "metadata": {},
   "source": [
    "# Exercise 2d\n",
    "- distance(x, y) is pre-loaded from part 2c. Write a function in_circle(x, origin) that determines whether a two-dimensional point falls within a unit circle surrounding a given origin. Your function should return a boolean that is True if the distance between x and origin is less than 1, and False otherwise.\n",
    "- Use your function to determine whether the point (1,1) lies within the unit circle centered at (0,0).\n",
    "- Print your answer.\n"
   ]
  },
  {
   "cell_type": "code",
   "execution_count": null,
   "metadata": {
    "collapsed": true
   },
   "outputs": [],
   "source": [
    "import random, math\n",
    "\n",
    "random.seed(1)\n",
    "\n",
    "def in_circle(x, origin = [0]*2):\n",
    "   # Define your function here!\n",
    "   return distance(x, origin) < 1\n",
    "\n",
    "print(in_circle((1,1)))"
   ]
  },
  {
   "cell_type": "markdown",
   "metadata": {},
   "source": [
    "# Exercise 2e\n",
    "- Create a list of R=10000 booleans called inside that determines whether each point in x falls within the unit circle centered at (0,0). Make sure to use in_circle.\n",
    "- Find the proportion of points within the circle by summing the count of True in inside, and dividing by R.\n",
    "- Print your answer. This proportion is an estimate of the ratio of the two areas!"
   ]
  },
  {
   "cell_type": "code",
   "execution_count": null,
   "metadata": {
    "collapsed": true
   },
   "outputs": [],
   "source": [
    "R = 10000\n",
    "x = []\n",
    "inside = []\n",
    "for i in range(R):\n",
    "    point = [rand(), rand()]\n",
    "    x.append(point)\n",
    "    # Enter your code here! #\n",
    "    inside.append(in_circle(point))\n",
    "\n",
    "# Enter your code here! #\n",
    "in_circ_count = 0\n",
    "for j in inside:\n",
    "    if j:\n",
    "        in_circ_count += 1\n",
    "print(in_circ_count/len(inside))"
   ]
  },
  {
   "cell_type": "markdown",
   "metadata": {},
   "source": [
    "# Exercise 2f\n",
    "- Note: inside and R are defined as in Exercise 2e. Recall that the true ratio of the area of the unit circle to the area to the inscribing square is pi / 4.\n",
    "- Find the difference between your estimate from part 2e and math.pi / 4.\n",
    "- Print your answer."
   ]
  },
  {
   "cell_type": "code",
   "execution_count": null,
   "metadata": {
    "collapsed": true
   },
   "outputs": [],
   "source": [
    "# write your code here!\n",
    "in_circ_count = 0\n",
    "for i in inside:\n",
    "    if i:\n",
    "        in_circ_count += 1\n",
    "\n",
    "print((math.pi/4) - in_circ_count/len(inside))"
   ]
  },
  {
   "cell_type": "markdown",
   "metadata": {},
   "source": [
    "# Exercise 3a\n",
    "- Write a function moving_window_average(x, n_neighbors) that takes a list x and the number of neighbors n_neighbors on either side of a given member of the list to consider.\n",
    "- For each value in x, moving_window_average(x, n_neighbors) computes the average of that value's neighbors, where neighbors includes the value itself.\n",
    "- moving_window_average should return a list of averaged values that is the same length as the original list.\n",
    "- If there are not enough neighbors (for cases near the edge), substitute the original value as many times as there are missing neighbors.\n",
    "- Use your function to find the moving window sum of x=[0,10,5,3,1,5] and n_neighbors=1."
   ]
  },
  {
   "cell_type": "code",
   "execution_count": null,
   "metadata": {
    "collapsed": true
   },
   "outputs": [],
   "source": [
    "import random\n",
    "\n",
    "random.seed(1)\n",
    "\n",
    "def moving_window_average(x, n_neighbors=1):\n",
    "    n = len(x)\n",
    "    width = n_neighbors*2 + 1\n",
    "    x = [x[0]]*n_neighbors + x + [x[-1]]*n_neighbors\n",
    "    # To complete the function,\n",
    "    # return a list of the mean of values from i to i+width for all values i from 0 to n-1.\n",
    "    y = []\n",
    "    for i in range(n_neighbors, len(x) - n_neighbors):\n",
    "        y.append((x[i] + x[i - n_neighbors] + x[i + n_neighbors])/width)\n",
    "    return y\n",
    "\n",
    "x=[0,10,5,3,1,5]\n",
    "print(moving_window_average(x, 1))"
   ]
  },
  {
   "cell_type": "markdown",
   "metadata": {},
   "source": [
    "# Exercise 3b\n",
    "- Compute and store R=1000 random values from 0-1 as x.\n",
    "- moving_window_average(x, n_neighbors) is pre-loaded into memory from 3a. Compute the moving window average for x for values of n_neighbors ranging from 1 to 9 inclusive.\n",
    "- Store x as well as each of these averages as consecutive lists in a list called Y."
   ]
  },
  {
   "cell_type": "code",
   "execution_count": null,
   "metadata": {
    "collapsed": true
   },
   "outputs": [],
   "source": [
    "import random\n",
    "\n",
    "random.seed(1) # This line fixes the value called by your function,\n",
    "               # and is used for answer-checking.\n",
    "    \n",
    "# write your code here!\n",
    "R = 1000\n",
    "x = [random.uniform(0, 1) for y in range(R)]\n",
    "Y = []\n",
    "Y.append(x)\n",
    "for i in range(1, 10):\n",
    "    Y.append(moving_window_average(x, n_neighbors=i))\n",
    "print(len(Y))"
   ]
  },
  {
   "cell_type": "markdown",
   "metadata": {},
   "source": [
    "# Exercise 3c\n",
    "- moving_window_average(x, n_neighbors=2) and Y are already loaded into memory. For each list in Y, calculate and store the range (the maximum minus the minimum) in a new list ranges.\n",
    "- Print your answer. As the window width increases, does the range of each list increase or decrease? Why do you think that is?"
   ]
  },
  {
   "cell_type": "code",
   "execution_count": null,
   "metadata": {
    "collapsed": true
   },
   "outputs": [],
   "source": [
    "# write your code here!\n",
    "\n",
    "ranges = [max(i) - min(i) for i in Y]\n",
    "print(ranges)"
   ]
  }
 ],
 "metadata": {
  "kernelspec": {
   "display_name": "Python 3",
   "language": "python",
   "name": "python3"
  },
  "language_info": {
   "codemirror_mode": {
    "name": "ipython",
    "version": 3
   },
   "file_extension": ".py",
   "mimetype": "text/x-python",
   "name": "python",
   "nbconvert_exporter": "python",
   "pygments_lexer": "ipython3",
   "version": "3.6.0"
  }
 },
 "nbformat": 4,
 "nbformat_minor": 2
}
