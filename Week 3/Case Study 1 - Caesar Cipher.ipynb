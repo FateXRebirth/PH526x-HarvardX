{
 "cells": [
  {
   "cell_type": "markdown",
   "metadata": {},
   "source": [
    "# Exercise 1\n",
    "- Create a dictionary letters with keys consisting of the numbers from 0 to 26, and values consisting of the lowercase letters of the English alphabet, including the space ' ' at the end."
   ]
  },
  {
   "cell_type": "code",
   "execution_count": null,
   "metadata": {
    "collapsed": true
   },
   "outputs": [],
   "source": [
    "# Let's look at the lowercase letters.\n",
    "import string\n",
    "string.ascii_lowercase\n",
    "\n",
    "# We will consider the alphabet to be these letters, along with a space.\n",
    "alphabet = string.ascii_lowercase + \" \"\n",
    "\n",
    "# create `letters` here!\n",
    "letters = dict()\n",
    "for i in range(len(alphabet)):\n",
    "    letters[i] = alphabet[i]"
   ]
  },
  {
   "cell_type": "markdown",
   "metadata": {},
   "source": [
    "# Exercise 2\n",
    "- alphabet and letters are already defined. Create a dictionary encoding with keys being the characters in alphabet and values being numbers from 0-26, shifted by an integer encryption_key=3. For example, the key a should have value encryption_key, key b should have value encryption_key + 1, and so on. If any result of this addition is less than 0 or greater than 26, you can ensure the result remains within 0-26 using result % 27."
   ]
  },
  {
   "cell_type": "code",
   "execution_count": null,
   "metadata": {
    "collapsed": true
   },
   "outputs": [],
   "source": [
    "alphabet = string.ascii_lowercase + \" \"\n",
    "letters = dict(enumerate(alphabet))\n",
    "\n",
    "encryption_key = 3\n",
    "\n",
    "# define `encoding` here!\n",
    "encoding = dict()\n",
    "for i in range(len(alphabet)):\n",
    "    value = encryption_key + i\n",
    "    if value < 0 or value > 26:\n",
    "        value = value%27\n",
    "    encoding[alphabet[i]] = value"
   ]
  },
  {
   "cell_type": "markdown",
   "metadata": {},
   "source": [
    "# Exercise 3\n",
    "- alphabet and letters are preloaded from the previous exercise. Write a function caesar(message, encryption_key) to encode a message with the Caesar cipher.\n",
    "- Use your code from Exercise 2 to find the value of encoding for each letter in message.\n",
    "- Use these values as keys in the dictionary letters to determine the encoded letter for each letter in message.\n",
    "- Your function should return a string consisting of these encoded letters.\n",
    "- Use caesar to encode message using encryption_key = 3, and save the result as encoded_message.\n",
    "- Print encoded_message."
   ]
  },
  {
   "cell_type": "code",
   "execution_count": null,
   "metadata": {
    "collapsed": true
   },
   "outputs": [],
   "source": [
    "message = \"hi my name is caesar\"\n",
    "\n",
    "def caesar(message, key):\n",
    "    encoded = ''\n",
    "    for letter in message:\n",
    "        before = alphabet.find(letter)+key\n",
    "        before = before % 27\n",
    "        after = alphabet[before]\n",
    "        encoded += after\n",
    "    return encoded\n",
    "    \n",
    "encoded_message = caesar(message, 3)\n",
    "\n",
    "print(encoded_message)"
   ]
  },
  {
   "cell_type": "markdown",
   "metadata": {},
   "source": [
    "# Exercise 4\n",
    "- Note that encoded_message is already loaded from the previous problem. Use caesar to decode encoded_message using encryption_key = -3.\n",
    "- Store your decoded message as decoded_message.\n",
    "- Print decoded_message. Does this recover your original message?"
   ]
  },
  {
   "cell_type": "code",
   "execution_count": null,
   "metadata": {
    "collapsed": true
   },
   "outputs": [],
   "source": [
    "decoded_message = caesar(encoded_message, -3)\n",
    "print(decoded_message)"
   ]
  }
 ],
 "metadata": {
  "kernelspec": {
   "display_name": "Python 3",
   "language": "python",
   "name": "python3"
  },
  "language_info": {
   "codemirror_mode": {
    "name": "ipython",
    "version": 3
   },
   "file_extension": ".py",
   "mimetype": "text/x-python",
   "name": "python",
   "nbconvert_exporter": "python",
   "pygments_lexer": "ipython3",
   "version": "3.6.0"
  }
 },
 "nbformat": 4,
 "nbformat_minor": 2
}
