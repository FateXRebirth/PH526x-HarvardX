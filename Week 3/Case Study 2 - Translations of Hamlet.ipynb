{
 "cells": [
  {
   "cell_type": "markdown",
   "metadata": {},
   "source": [
    "# Exercise 1\n",
    "- Write a function word_count_distribution(text) that takes a book string and returns a dictionary with items corresponding to the count of times a collection of words appears in the translation, and values corresponding to the number of number of words that appear with that frequency.\n",
    "- First use count_words_fast(text) to create a dictionary called word_counts with unique words in the dictionary as keys and their frequency in the book as values.\n",
    "- Next, create and return a new dictionary count_distribution with unique values from word_counts as keys and their frequency as values. For example, 'you are what you eat' contains three words that occur once and one word that occurs twice, so word_count_distribution('you are what you eat') should return a dictionary {1:3, 2:1}.\n",
    "- 'Romeo and Juliet' is preloaded as text. Call word_count_distribution(text), and save the result as distribution.\n"
   ]
  },
  {
   "cell_type": "code",
   "execution_count": null,
   "metadata": {
    "collapsed": true
   },
   "outputs": [],
   "source": [
    "# input your code here!\n",
    "\n",
    "def word_count_distribution(text):\n",
    "    word_counts = count_words_fast(text)\n",
    "    num_unique, counts = word_stats(word_counts)\n",
    "    count_distribution = dict()\n",
    "    for times in counts:\n",
    "        if times in count_distribution:\n",
    "            count_distribution[times] += 1\n",
    "        else:\n",
    "            count_distribution[times] = 1\n",
    "    return count_distribution\n",
    "\n",
    "distribution = word_count_distribution(text)"
   ]
  },
  {
   "cell_type": "markdown",
   "metadata": {},
   "source": [
    "# Exercise 2\n",
    "- Create a function more_frequent(distribution) that takes a word frequency dictionary (like that made in Exercise 1) and outputs a dictionary with the same keys as those in distribution (the number of times a group of words appears in the text), and values corresponding to the fraction of words that occur with more frequency than that key.\n",
    "- Call more_frequent(distribution)."
   ]
  },
  {
   "cell_type": "code",
   "execution_count": null,
   "metadata": {
    "collapsed": true
   },
   "outputs": [],
   "source": [
    "# input your code here!\n",
    "\n",
    "def more_frequent(distribution):\n",
    "    result = dict()\n",
    "    total = 0\n",
    "    for times in distribution:\n",
    "        total += distribution[times]\n",
    "        result[times] = 0\n",
    "    for times in distribution:\n",
    "        result[times] = distribution[times]/total\n",
    "    return result\n",
    "    \n",
    "more_frequent(distribution)"
   ]
  },
  {
   "cell_type": "markdown",
   "metadata": {},
   "source": [
    "# Exercise 3\n",
    "- Edit the code used to read though each of the books in our library, and store the word frequency distribution for each translation of William Shakespeare's \"Hamlet\" as a Pandas dataframe hamlets with columns named \"language\" and \"distribution\". word_count_distribution is preloaded from Exercise 1. How many translations are there? Which languages are they translated into?"
   ]
  },
  {
   "cell_type": "code",
   "execution_count": null,
   "metadata": {
    "collapsed": true
   },
   "outputs": [],
   "source": [
    "import pandas as pd\n",
    "hamlets = pd.DataFrame(columns=(\"language\", \"distribution\"))\n",
    "book_dir = \"Books\"\n",
    "title_num = 1\n",
    "for language in book_titles:\n",
    "    for author in book_titles[language]:\n",
    "        for title in book_titles[language][author]:\n",
    "            if title == \"Hamlet\":\n",
    "                inputfile = data_filepath+\"Books/\"+language+\"/\"+author+\"/\"+title+\".txt\"\n",
    "                text = read_book(inputfile)\n",
    "                distribution = word_count_distribution(text)\n",
    "                hamlets.loc[title_num] = language, distribution\n",
    "                title_num += 1"
   ]
  },
  {
   "cell_type": "markdown",
   "metadata": {},
   "source": [
    "# Exercise 4\n",
    "- Plot the word frequency distributions of each translations on a single log-log plot. Note that we have already done most of the work for you. Do the distributions of each translation differ?"
   ]
  },
  {
   "cell_type": "code",
   "execution_count": null,
   "metadata": {
    "collapsed": true
   },
   "outputs": [],
   "source": [
    "colors = [\"crimson\", \"forestgreen\", \"blueviolet\"]\n",
    "handles, hamlet_languages = [], []\n",
    "for index in range(hamlets.shape[0]):\n",
    "    language, distribution = hamlets.language[index+1], hamlets.distribution[index+1]\n",
    "    dist = more_frequent(distribution)\n",
    "    plot, = plt.loglog(sorted(list(dist.keys())),sorted(list(dist.values()),\n",
    "        reverse = True), color = colors[index], linewidth = 2)\n",
    "    handles.append(plot)\n",
    "    hamlet_languages.append(language)\n",
    "plt.title(\"Word Frequencies in Hamlet Translations\")\n",
    "xlim    = [0, 2e3]\n",
    "xlabel  = \"Frequency of Word $W$\"\n",
    "ylabel  = \"Fraction of Words\\nWith Greater Frequency than $W$\"\n",
    "plt.xlim(xlim); plt.xlabel(xlabel); plt.ylabel(ylabel)\n",
    "plt.legend(handles, hamlet_languages, loc = \"upper right\", numpoints = 1)\n",
    "plt.show()"
   ]
  }
 ],
 "metadata": {
  "kernelspec": {
   "display_name": "Python 3",
   "language": "python",
   "name": "python3"
  },
  "language_info": {
   "codemirror_mode": {
    "name": "ipython",
    "version": 3
   },
   "file_extension": ".py",
   "mimetype": "text/x-python",
   "name": "python",
   "nbconvert_exporter": "python",
   "pygments_lexer": "ipython3",
   "version": "3.6.0"
  }
 },
 "nbformat": 4,
 "nbformat_minor": 2
}
