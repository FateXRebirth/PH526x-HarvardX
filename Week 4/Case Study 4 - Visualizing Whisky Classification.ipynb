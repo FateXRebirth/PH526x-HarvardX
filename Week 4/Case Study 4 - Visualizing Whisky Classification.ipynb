{
 "cells": [
  {
   "cell_type": "markdown",
   "metadata": {
    "collapsed": true
   },
   "source": [
    "# Exercise 1\n",
    "- Here we provide a basic demonstration of an interactive grid plot using Bokeh. Execute the following code and follow along with the comments. We will later adapt this code to plot the correlations among distillery flavor profiles as well as plot a geographical map of distilleries colored by region and flavor profile.\n",
    "- Make sure to study this code now, as we will edit similar code in the exercises that follow.\n",
    "- Once you have plotted the code, hover, click, and drag your cursor on the plot to interact with it. Additionally, explore the icons in the top-right corner of the plot for more interactive options!\n"
   ]
  },
  {
   "cell_type": "code",
   "execution_count": null,
   "metadata": {
    "collapsed": true
   },
   "outputs": [],
   "source": [
    "# First, we import a tool to allow text to pop up on a plot when the cursor\n",
    "# hovers over it.  Also, we import a data structure used to store arguments\n",
    "# of what to plot in Bokeh.  Finally, we will use numpy for this section as well!\n",
    "\n",
    "from bokeh.models import HoverTool, ColumnDataSource\n",
    "import numpy as np\n",
    "\n",
    "# Let's plot a simple 5x5 grid of squares, alternating in color as red and blue.\n",
    "\n",
    "plot_values = [1,2,3,4,5]\n",
    "plot_colors = [\"red\", \"blue\"]\n",
    "\n",
    "# How do we tell Bokeh to plot each point in a grid?  Let's use a function that\n",
    "# finds each combination of values from 1-5.\n",
    "from itertools import product\n",
    "\n",
    "grid = list(product(plot_values, plot_values))\n",
    "print(grid)\n",
    "\n",
    "# The first value is the x coordinate, and the second value is the y coordinate.\n",
    "# Let's store these in separate lists.\n",
    "\n",
    "xs, ys = zip(*grid)\n",
    "print(xs)\n",
    "print(ys)\n",
    "\n",
    "# Now we will make a list of colors, alternating between red and blue.\n",
    "\n",
    "colors = [plot_colors[i%2] for i in range(len(grid))]\n",
    "print(colors)\n",
    "\n",
    "# Finally, let's determine the strength of transparency (alpha) for each point,\n",
    "# where 0 is completely transparent.\n",
    "\n",
    "alphas = np.linspace(0, 1, len(grid))\n",
    "\n",
    "# Bokeh likes each of these to be stored in a special dataframe, called\n",
    "# ColumnDataSource.  Let's store our coordinates, colors, and alpha values.\n",
    "\n",
    "source = ColumnDataSource(\n",
    "    data={\n",
    "        \"x\": xs,\n",
    "        \"y\": ys,\n",
    "        \"colors\": colors,\n",
    "        \"alphas\": alphas,\n",
    "    }\n",
    ")\n",
    "# We are ready to make our interactive Bokeh plot!\n",
    "\n",
    "output_file(\"Basic_Example.html\", title=\"Basic Example\")\n",
    "fig = figure(tools=\"resize, hover, save\")\n",
    "fig.rect(\"x\", \"y\", 0.9, 0.9, source=source, color=\"colors\",alpha=\"alphas\")\n",
    "hover = fig.select(dict(type=HoverTool))\n",
    "hover.tooltips = {\n",
    "    \"Value\": \"@x, @y\",\n",
    "    }\n",
    "show(fig)"
   ]
  },
  {
   "cell_type": "markdown",
   "metadata": {},
   "source": [
    "# Exercise 2\n",
    "- Let's create the names and colors we will use to plot the correlation matrix of whisky flavors. Later, we will also use these colors to plot each distillery geographically. Create a dictionary region_colors with regions as keys and cluster_colors as values.\n",
    "- Print region_colors.\n"
   ]
  },
  {
   "cell_type": "code",
   "execution_count": null,
   "metadata": {
    "collapsed": true
   },
   "outputs": [],
   "source": [
    "cluster_colors = [\"red\", \"orange\", \"green\", \"blue\", \"purple\", \"gray\"]\n",
    "regions = [\"Speyside\", \"Highlands\", \"Lowlands\", \"Islands\", \"Campbelltown\", \"Islay\"]\n",
    "\n",
    "region_colors = dict(zip(regions,cluster_colors))\n",
    "\n",
    "print(region_colors)"
   ]
  },
  {
   "cell_type": "markdown",
   "metadata": {},
   "source": [
    "# Exercise 3\n",
    "- correlations is a two-dimensional np.array with both rows and columns corresponding to distilleries and elements corresponding to the flavor correlation of each row/column pair. Let's define a list correlation_colors, with string values corresponding to colors to be used to plot each distillery pair. Low correlations among distillery pairs will be white, high correlations will be a distinct group color if the distilleries from the same group, and gray otherwise. Edit the code to define correlation_colors for each distillery pair to have input 'white' if their correlation is less than 0.7.\n",
    "- whisky.Group is a pandas dataframe column consisting of distillery group memberships. For distillery pairs with correlation greater than 0.7, if they share the same whisky group, use the corresponding color from cluster_colors. Otherwise, the correlation_colors value for that distillery pair will be defined as 'lightgray'."
   ]
  },
  {
   "cell_type": "code",
   "execution_count": null,
   "metadata": {
    "collapsed": true
   },
   "outputs": [],
   "source": [
    "distilleries = list(whisky.Distillery)\n",
    "correlation_colors = []\n",
    "for i in range(len(distilleries)):\n",
    "    for j in range(len(distilleries)):\n",
    "        if correlations[i,j] < .70:                    # if low correlation,\n",
    "            correlation_colors.append('white')         # just use white.\n",
    "        else:                                          # otherwise,\n",
    "            if whisky.Group[i] == whisky.Group[j]:     # if the groups match,\n",
    "                correlation_colors.append(cluster_colors[whisky.Group[i]]) # color them by their mutual group.\n",
    "            else:                                      # otherwise\n",
    "                correlation_colors.append('lightgray') # color them lightgray."
   ]
  },
  {
   "cell_type": "markdown",
   "metadata": {},
   "source": [
    "# Exercise 4\n",
    "- We will edit the following code to make an interactive grid of the correlations among distillery pairs using correlation_colors and correlations. correlation_colors is a list of each distillery pair. To convert correlations from a np.array to a list, we will use the flatten method. Define the color of each rectangle in the grid using to correlation_colors.\n",
    "- Define the alpha (transparency) values using correlations.flatten().\n",
    "- Define correlations and using correlations.flatten(). When the cursor hovers over a rectangle, this will output the distillery pair, show both distilleries as well as their correlation coefficient."
   ]
  },
  {
   "cell_type": "code",
   "execution_count": 1,
   "metadata": {},
   "outputs": [
    {
     "ename": "NameError",
     "evalue": "name 'ColumnDataSource' is not defined",
     "output_type": "error",
     "traceback": [
      "\u001b[0;31m-------------------------------------------------------------------\u001b[0m",
      "\u001b[0;31mNameError\u001b[0m                         Traceback (most recent call last)",
      "\u001b[0;32m<ipython-input-1-6f0e9b7a4fbe>\u001b[0m in \u001b[0;36m<module>\u001b[0;34m()\u001b[0m\n\u001b[0;32m----> 1\u001b[0;31m source = ColumnDataSource(\n\u001b[0m\u001b[1;32m      2\u001b[0m     data = {\n\u001b[1;32m      3\u001b[0m         \u001b[0;34m\"x\"\u001b[0m\u001b[0;34m:\u001b[0m \u001b[0mnp\u001b[0m\u001b[0;34m.\u001b[0m\u001b[0mrepeat\u001b[0m\u001b[0;34m(\u001b[0m\u001b[0mdistilleries\u001b[0m\u001b[0;34m,\u001b[0m\u001b[0mlen\u001b[0m\u001b[0;34m(\u001b[0m\u001b[0mdistilleries\u001b[0m\u001b[0;34m)\u001b[0m\u001b[0;34m)\u001b[0m\u001b[0;34m,\u001b[0m\u001b[0;34m\u001b[0m\u001b[0m\n\u001b[1;32m      4\u001b[0m         \u001b[0;34m\"y\"\u001b[0m\u001b[0;34m:\u001b[0m \u001b[0mlist\u001b[0m\u001b[0;34m(\u001b[0m\u001b[0mdistilleries\u001b[0m\u001b[0;34m)\u001b[0m\u001b[0;34m*\u001b[0m\u001b[0mlen\u001b[0m\u001b[0;34m(\u001b[0m\u001b[0mdistilleries\u001b[0m\u001b[0;34m)\u001b[0m\u001b[0;34m,\u001b[0m\u001b[0;34m\u001b[0m\u001b[0m\n\u001b[1;32m      5\u001b[0m         \u001b[0;34m\"colors\"\u001b[0m\u001b[0;34m:\u001b[0m \u001b[0mcorrelation_colors\u001b[0m\u001b[0;34m,\u001b[0m\u001b[0;34m\u001b[0m\u001b[0m\n",
      "\u001b[0;31mNameError\u001b[0m: name 'ColumnDataSource' is not defined"
     ]
    }
   ],
   "source": [
    "source = ColumnDataSource(\n",
    "    data = {\n",
    "        \"x\": np.repeat(distilleries,len(distilleries)),\n",
    "        \"y\": list(distilleries)*len(distilleries),\n",
    "        \"colors\": correlation_colors,\n",
    "        \"alphas\": correlations.flatten(),\n",
    "        \"correlations\": correlations.flatten()\n",
    "    }\n",
    ")\n",
    "\n",
    "output_file(\"Whisky Correlations.html\", title=\"Whisky Correlations\")\n",
    "fig = figure(title=\"Whisky Correlations\",\n",
    "    x_axis_location=\"above\", tools=\"resize,hover,save\",\n",
    "    x_range=list(reversed(distilleries)), y_range=distilleries)\n",
    "fig.grid.grid_line_color = None\n",
    "fig.axis.axis_line_color = None\n",
    "fig.axis.major_tick_line_color = None\n",
    "fig.axis.major_label_text_font_size = \"5pt\"\n",
    "fig.xaxis.major_label_orientation = np.pi / 3\n",
    "\n",
    "fig.rect('x', 'y', .9, .9, source=source,\n",
    "     color='colors', alpha='alphas')\n",
    "hover = fig.select(dict(type=HoverTool))\n",
    "hover.tooltips = {\n",
    "    \"Whiskies\": \"@x, @y\",\n",
    "    \"Correlation\": \"@correlations\",\n",
    "}\n",
    "show(fig)"
   ]
  },
  {
   "cell_type": "markdown",
   "metadata": {},
   "source": [
    "# Exercise 5\n",
    "- Next, we provide an example of plotting points geographically. Run the following code, to be adapted in the next section. Compare this code to that used in plotting the distillery correlations.\n"
   ]
  },
  {
   "cell_type": "code",
   "execution_count": null,
   "metadata": {
    "collapsed": true
   },
   "outputs": [],
   "source": [
    "points = [(0,0), (1,2), (3,1)]\n",
    "xs, ys = zip(*points)\n",
    "colors = [\"red\", \"blue\", \"green\"]\n",
    "\n",
    "output_file(\"Spatial_Example.html\", title=\"Regional Example\")\n",
    "location_source = ColumnDataSource(\n",
    "    data={\n",
    "        \"x\": xs,\n",
    "        \"y\": ys,\n",
    "        \"colors\": colors,\n",
    "    }\n",
    ")\n",
    "\n",
    "fig = figure(title = \"Title\",\n",
    "    x_axis_location = \"above\", tools=\"resize, hover, save\")\n",
    "fig.plot_width  = 300\n",
    "fig.plot_height = 380\n",
    "fig.circle(\"x\", \"y\", 10, 10, size=10, source=location_source,\n",
    "     color='colors', line_color = None)\n",
    "\n",
    "hover = fig.select(dict(type = HoverTool))\n",
    "hover.tooltips = {\n",
    "    \"Location\": \"(@x, @y)\"\n",
    "}\n",
    "show(fig)"
   ]
  },
  {
   "cell_type": "markdown",
   "metadata": {},
   "source": [
    "# Exercise 6\n",
    "- Adapt the given code from the beginning to show(fig) in order to define a function location_plot(title, colors). This function takes a string title and a list of colors corresponding to each distillery and outputs a Bokeh plot of each distillery by latitude and longitude. As the cursor hovers over each point, it displays the distillery name, latitude, and longitude.\n",
    "- whisky.Region is a pandas column containing the regional group membership for each distillery. Make a list consisting of the value of region_colors for each distillery, and store this list as region_cols.\n",
    "- Use location_plot to plot each distillery, colored by its regional grouping."
   ]
  },
  {
   "cell_type": "code",
   "execution_count": null,
   "metadata": {
    "collapsed": true
   },
   "outputs": [],
   "source": [
    "# edit this to make the function `location_plot`.\n",
    "def location_plot(title, colors):\n",
    "    output_file(title+\".html\")\n",
    "    location_source = ColumnDataSource(\n",
    "        data={\n",
    "            \"x\": whisky[\" Latitude\"],\n",
    "            \"y\": whisky[\" Longitude\"],\n",
    "            \"colors\": colors,\n",
    "            \"regions\": whisky.Region,\n",
    "            \"distilleries\": whisky.Distillery\n",
    "        }\n",
    "    )\n",
    "    \n",
    "    fig = figure(title = title,\n",
    "        x_axis_location = \"above\", tools=\"resize, hover, save\")\n",
    "    fig.plot_width  = 400\n",
    "    fig.plot_height = 500\n",
    "    fig.circle(\"x\", \"y\", 10, 10, size=9, source=location_source,\n",
    "         color='colors', line_color = None)\n",
    "    fig.xaxis.major_label_orientation = np.pi / 3\n",
    "    hover = fig.select(dict(type = HoverTool))\n",
    "    hover.tooltips = {\n",
    "        \"Distillery\": \"@distilleries\",\n",
    "        \"Location\": \"(@x, @y)\"\n",
    "    }\n",
    "    show(fig)\n",
    "\n",
    "region_cols = [region_colors[i] for i in list(whisky[\"Region\"])]\n",
    "location_plot(\"Whisky Locations and Regions\", region_cols)"
   ]
  },
  {
   "cell_type": "markdown",
   "metadata": {},
   "source": [
    "# Exercise 7\n",
    "- Use list comprehensions to create the list region_cols consisting of the color in region_colors that corresponds to each whisky in whisky.Region.\n",
    "- Similarly, create a list classification_cols consisting of the color in cluster_colors that corresponds to each cluster membership in whisky.Group.\n",
    "- location_plot remains stored from the previous exercise. Use it to create two interactive plots of distilleries, one colored by defined region called region_cols and the other with colors defined by coclustering designation called classification_cols. How well do the coclustering groupings match the regional groupings?\n"
   ]
  },
  {
   "cell_type": "code",
   "execution_count": null,
   "metadata": {
    "collapsed": true
   },
   "outputs": [],
   "source": [
    "region_cols = [region_colors[i] for i in list(whisky[\"Region\"])]\n",
    "classification_cols = [cluster_colors[i] for i in whisky['Group']]\n",
    "\n",
    "location_plot(\"Whisky Locations and Regions\", region_cols)\n",
    "location_plot(\"Whisky Locations and Groups\", classification_cols)"
   ]
  }
 ],
 "metadata": {
  "kernelspec": {
   "display_name": "Python 2",
   "language": "python",
   "name": "python2"
  },
  "language_info": {
   "codemirror_mode": {
    "name": "ipython",
    "version": 2
   },
   "file_extension": ".py",
   "mimetype": "text/x-python",
   "name": "python",
   "nbconvert_exporter": "python",
   "pygments_lexer": "ipython2",
   "version": "2.7.13"
  }
 },
 "nbformat": 4,
 "nbformat_minor": 1
}
