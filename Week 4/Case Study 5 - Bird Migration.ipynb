{
 "cells": [
  {
   "cell_type": "markdown",
   "metadata": {},
   "source": [
    "# Exercise 1\n",
    "- pandas makes it easy to perform basic operations on groups within a dataframe without needing to loop through each value in the dataframe. The sample code shows you how to group the dataframe by birdname and then find the average speed_2d for each bird. Modify the code to assign the mean altitudes of each bird into an object called mean_altitudes."
   ]
  },
  {
   "cell_type": "code",
   "execution_count": null,
   "metadata": {
    "collapsed": true
   },
   "outputs": [],
   "source": [
    "# First, use `groupby` to group up the data.\n",
    "grouped_birds = birddata.groupby(\"bird_name\")\n",
    "\n",
    "# Now operations are performed on each group.\n",
    "mean_speeds = grouped_birds.speed_2d.mean()\n",
    "\n",
    "# The `head` method prints the first 5 lines of each bird.\n",
    "grouped_birds.head()\n",
    "\n",
    "# Find the mean `altitude` for each bird.\n",
    "# Assign this to `mean_altitudes`.\n",
    "mean_altitudes = grouped_birds.altitude.mean()"
   ]
  },
  {
   "cell_type": "markdown",
   "metadata": {},
   "source": [
    "# Exercise 2\n",
    "- In this exercise, we will group the flight times by date and calculate the mean altitude within that day. Use groupby to group the data by date.\n",
    "- Calculate the mean altitude per day and store these results as mean_altitudes_perday."
   ]
  },
  {
   "cell_type": "code",
   "execution_count": null,
   "metadata": {
    "collapsed": true
   },
   "outputs": [],
   "source": [
    "# Convert birddata.date_time to the `pd.datetime` format.\n",
    "birddata.date_time = pd.to_datetime(birddata.date_time)\n",
    "\n",
    "# Create a new column of day of observation\n",
    "birddata[\"date\"] = birddata.date_time.dt.date\n",
    "\n",
    "# Check the head of the column.\n",
    "birddata.date.head()\n",
    "\n",
    "grouped_bydates = birddata.groupby('date')\n",
    "mean_altitudes_perday = grouped_bydates.altitude.mean()"
   ]
  },
  {
   "cell_type": "markdown",
   "metadata": {},
   "source": [
    "# Exercise 3\n",
    "- birddata already contains the date column. To find the average speed for each bird and day, create a new grouped dataframe called grouped_birdday that groups the data by both bird_name and date."
   ]
  },
  {
   "cell_type": "code",
   "execution_count": null,
   "metadata": {
    "collapsed": true
   },
   "outputs": [],
   "source": [
    "grouped_birdday = birddata.groupby([\"bird_name\", \"date\"])\n",
    "mean_altitudes_perday = grouped_birdday.altitude.mean()\n",
    "\n",
    "# look at the head of `mean_altitudes_perday`.\n",
    "mean_altitudes_perday.head()"
   ]
  },
  {
   "cell_type": "markdown",
   "metadata": {},
   "source": [
    "# Exercise 4\n",
    "- Great! Now find the average speed for each bird and day. Store these are three pandas Series objects – one for each bird.\n",
    "- Use the plotting code provided to plot the average speeds for each bird."
   ]
  },
  {
   "cell_type": "code",
   "execution_count": null,
   "metadata": {
    "collapsed": true
   },
   "outputs": [],
   "source": [
    "eric_daily_speed  = grouped_birdday.speed_2d.mean()[\"Eric\"]\n",
    "sanne_daily_speed = grouped_birdday.speed_2d.mean()[\"Sanne\"]\n",
    "nico_daily_speed  = grouped_birdday.speed_2d.mean()[\"Nico\"]\n",
    "\n",
    "eric_daily_speed.plot(label=\"Eric\")\n",
    "sanne_daily_speed.plot(label=\"Sanne\")\n",
    "nico_daily_speed.plot(label=\"Nico\")\n",
    "plt.legend(loc=\"upper left\")\n",
    "plt.show()"
   ]
  }
 ],
 "metadata": {
  "kernelspec": {
   "display_name": "Python 2",
   "language": "python",
   "name": "python2"
  },
  "language_info": {
   "codemirror_mode": {
    "name": "ipython",
    "version": 2
   },
   "file_extension": ".py",
   "mimetype": "text/x-python",
   "name": "python",
   "nbconvert_exporter": "python",
   "pygments_lexer": "ipython2",
   "version": "2.7.13"
  }
 },
 "nbformat": 4,
 "nbformat_minor": 2
}
