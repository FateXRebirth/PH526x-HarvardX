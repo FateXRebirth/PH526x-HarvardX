{
 "cells": [
  {
   "cell_type": "markdown",
   "metadata": {},
   "source": [
    "# Exercise 1\n",
    "- individual_characteristics.dta contains several characteristics for each individual in the dataset such as age, religion, and caste. Use the pandas library to read in and store these characteristics as a dataframe called df.\n",
    "- Store separate datasets for individuals belonging to Villages 1 and 2 as df1 and df2, respectively. (Note that some attributes may be missing for some individuals. Here, investigate only those pairs of nodes where the attributes are known for both nodes. This means that we're effectively assuming that the data are missing completely at random.)\n",
    "- Use the head method to display the first few entries of df1.\n"
   ]
  },
  {
   "cell_type": "code",
   "execution_count": null,
   "metadata": {
    "collapsed": true
   },
   "outputs": [],
   "source": [
    "import pandas as pd\n",
    "df  = pd.read_stata(data_filepath + \"individual_characteristics.dta\")\n",
    "df1 = df[(df.village == 1)]\n",
    "df2 = df[(df.village == 2)]\n",
    "\n",
    "df1.head()"
   ]
  },
  {
   "cell_type": "markdown",
   "metadata": {},
   "source": [
    "# Exercise 2\n",
    "- In this dataset, each individual has a personal ID, or PID, stored in key_vilno_1.csv and key_vilno_2.csv for villages 1 and 2, respectively. data_filepath contains the base URL to the datasets used in this exercise. Use pd.read_csv to read in and store key_vilno_1.csv and key_vilno_2.csv as pid1 and pid2 respectively. The csv files have no headers, so make sure to include the parameter header = None.\n"
   ]
  },
  {
   "cell_type": "code",
   "execution_count": null,
   "metadata": {
    "collapsed": true
   },
   "outputs": [],
   "source": [
    "pid1 = pd.read_csv(data_filepath + 'key_vilno_1.csv', dtype=int, header = None)\n",
    "pid2 = pd.read_csv(data_filepath + 'key_vilno_2.csv', dtype=int, header = None)"
   ]
  },
  {
   "cell_type": "markdown",
   "metadata": {},
   "source": [
    "# Exercise 3\n",
    "- Define Python dictionaries with personal IDs as keys and a given covariate for that individual as values. Complete this for the sex, caste, and religion covariates, for Villages 1 and 2. Store these into variables named sex1, caste1, and religion1 for Village 1 and sex2, caste2, and religion2 for Village 2."
   ]
  },
  {
   "cell_type": "code",
   "execution_count": null,
   "metadata": {
    "collapsed": true
   },
   "outputs": [],
   "source": [
    "sex1      = df1.set_index(\"pid\")[\"resp_gend\"].to_dict()\n",
    "caste1    = df1.set_index(\"pid\")[\"caste\"].to_dict()\n",
    "religion1 = df1.set_index(\"pid\")[\"religion\"].to_dict()\n",
    "\n",
    "sex2      = df2.set_index(\"pid\")[\"resp_gend\"].to_dict()\n",
    "caste2    = df2.set_index(\"pid\")[\"caste\"].to_dict()\n",
    "religion2 = df2.set_index(\"pid\")[\"religion\"].to_dict()"
   ]
  },
  {
   "cell_type": "markdown",
   "metadata": {},
   "source": [
    "# Exercise 4\n",
    "- Let's consider how much homophily exists in these networks. For a given characteristic, our measure of homophily will be the proportion of edges in the network whose constituent nodes share that characteristic. How much homophily do we expect by chance? If characteristics are distributed completely randomly, the probability that two nodes x and y share characteristic a is the probability both nodes have characteristic a, which is the frequency of a squared. The total probability that nodes x and y share their characteristic is therefore the sum of the frequency of each characteristic in the network. For example, in the dictionary favorite_colors provided, the frequency of red and blue is 1/3 and 2/3 respectively, so the chance homophily is (1/3)^2+(2/3)^2 = 5/9. Create a function chance_homophily(chars) that takes a dictionary with personal IDs as keys and characteristics as values, and computes the chance homophily for that characteristic.\n",
    "- A sample of three peoples' favorite colors is given in favorite_colors. Use your function to compute the chance homophily in this group, and store as color_homophily.\n",
    "- Print color_homophily."
   ]
  },
  {
   "cell_type": "code",
   "execution_count": null,
   "metadata": {
    "collapsed": true
   },
   "outputs": [],
   "source": [
    "from collections import Counter\n",
    "def chance_homophily(chars):\n",
    "    chars_counts_dict = Counter(chars.values())\n",
    "    chars_counts = np.array(list(chars_counts_dict.values()))\n",
    "    chars_props  = chars_counts / sum(chars_counts)\n",
    "    return sum(chars_props**2)\n",
    "\n",
    "favorite_colors = {\n",
    "    \"ankit\":  \"red\",\n",
    "    \"xiaoyu\": \"blue\",\n",
    "    \"mary\":   \"blue\"\n",
    "}\n",
    "\n",
    "color_homophily = chance_homophily(favorite_colors)\n",
    "print(color_homophily)"
   ]
  },
  {
   "cell_type": "markdown",
   "metadata": {},
   "source": [
    "# Exercise 5\n",
    "- sex1, caste1, religion1, sex2, caste2, and religion2 are already defined from previous exercises. Use chance_homophily to compute the chance homophily for sex, caste, and religion In Villages 1 and 2. Is the chance homophily for any attribute very high for either village?"
   ]
  },
  {
   "cell_type": "code",
   "execution_count": null,
   "metadata": {
    "collapsed": true
   },
   "outputs": [],
   "source": [
    "print(\"Village 1 chance of same sex:\", chance_homophily(sex1))\n",
    "print(\"Village 1 chance of same caste:\", chance_homophily(caste1))\n",
    "print(\"Village 1 chance of same religion:\", chance_homophily(religion1))\n",
    "\n",
    "print(\"Village 1 chance of same sex:\", chance_homophily(sex2))\n",
    "print(\"Village 1 chance of same caste:\", chance_homophily(caste2))\n",
    "print(\"Village 1 chance of same religion:\", chance_homophily(religion2))"
   ]
  },
  {
   "cell_type": "markdown",
   "metadata": {},
   "source": [
    "# Exercise 6\n",
    "- Now let's compute the observed homophily in our network. Recall that our measure of homophily is the proportion of edges whose nodes share a characteristic. homophily(G, chars, IDs) takes a network G, a dictionary of characteristics chars, and node IDs IDs. For each node pair, determine whether a tie exists between them, as well as whether they share a characteristic. The total count of these is num_same_ties and num_ties respectively, and their ratio is the homophily of chars in G. Complete the function by choosing where to increment num_same_ties and num_ties."
   ]
  },
  {
   "cell_type": "code",
   "execution_count": null,
   "metadata": {
    "collapsed": true
   },
   "outputs": [],
   "source": [
    "def homophily(G, chars, IDs):\n",
    "    \"\"\"\n",
    "    Given a network G, a dict of characteristics chars for node IDs,\n",
    "    and dict of node IDs for each node in the network,\n",
    "    find the homophily of the network.\n",
    "    \"\"\"\n",
    "    num_same_ties, num_ties = 0, 0\n",
    "    for n1 in G.nodes():\n",
    "        for n2 in G.nodes():\n",
    "            if n1 > n2:   # do not double-count edges!\n",
    "                if IDs[n1] in chars and IDs[n2] in chars:\n",
    "                    if G.has_edge(n1, n2):\n",
    "                        num_ties += 1\n",
    "                        if chars[IDs[n1]] == chars[IDs[n2]]:\n",
    "                            num_same_ties += 1\n",
    "    return (num_same_ties / num_ties)"
   ]
  },
  {
   "cell_type": "markdown",
   "metadata": {},
   "source": [
    "# Exercise 7\n",
    "- The networks for Villages 1 and 2 have been stored as networkx graph objects G1 and G2. Use your homophily function to compute the observed homophily for sex, caste, and religion in Villages 1 and 2.\n",
    "- Print all six values. Are these values higher or lower than that expected by chance?\n"
   ]
  },
  {
   "cell_type": "code",
   "execution_count": null,
   "metadata": {
    "collapsed": true
   },
   "outputs": [],
   "source": [
    "print(\"Village 1 observed proportion of same sex:\", homophily(G1, sex1, pid1))\n",
    "print(\"Village 1 observed proportion of same caste:\", homophily(G1, caste1, pid1))\n",
    "print(\"Village 1 observed proportion of same religion:\", homophily(G1, religion1, pid1))\n",
    "\n",
    "print(\"Village 2 observed proportion of same sex:\", homophily(G2, sex2, pid2))\n",
    "print(\"Village 2 observed proportion of same caste:\", homophily(G2, caste2, pid2))\n",
    "print(\"Village 2 observed proportion of same religion:\", homophily(G2, religion2, pid2))"
   ]
  }
 ],
 "metadata": {
  "kernelspec": {
   "display_name": "Python 2",
   "language": "python",
   "name": "python2"
  },
  "language_info": {
   "codemirror_mode": {
    "name": "ipython",
    "version": 2
   },
   "file_extension": ".py",
   "mimetype": "text/x-python",
   "name": "python",
   "nbconvert_exporter": "python",
   "pygments_lexer": "ipython2",
   "version": "2.7.13"
  }
 },
 "nbformat": 4,
 "nbformat_minor": 2
}
