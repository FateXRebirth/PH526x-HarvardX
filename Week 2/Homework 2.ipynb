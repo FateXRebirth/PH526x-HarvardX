{
 "cells": [
  {
   "cell_type": "markdown",
   "metadata": {},
   "source": [
    "# Exercise 1\n",
    "- For our tic-tac-toe board, we will use a numpy array with dimension 3 by 3. Make a function create_board() that creates such a board, with values of integers 0.\n",
    "- Call create_board(), and store this as board."
   ]
  },
  {
   "cell_type": "code",
   "execution_count": null,
   "metadata": {
    "collapsed": true
   },
   "outputs": [],
   "source": [
    "import numpy\n",
    "\n",
    "def create_board():\n",
    "    return numpy.array([[0,0,0],[0,0,0],[0,0,0]])\n",
    "\n",
    "board = create_board()"
   ]
  },
  {
   "cell_type": "markdown",
   "metadata": {},
   "source": [
    "# Exercise 2\n",
    "- Players 1 and 2 will take turns changing values of this array from a 0 to a 1 or 2, indicating the number of the player who places there. Create a function place(board, player, position) with player being the current player (an integer 1 or 2), and position a tuple of length 2 specifying a desired location to place their marker. Only allow the current player to place a piece on the board (change the board position to their number) if that position is empty (zero).\n",
    "- Use create_board() to store a board as board, and use place to have Player 1 place a piece on spot (0, 0)."
   ]
  },
  {
   "cell_type": "code",
   "execution_count": null,
   "metadata": {
    "collapsed": true
   },
   "outputs": [],
   "source": [
    "def place(board, player, position):\n",
    "    x = position[0]\n",
    "    y = position[1]\n",
    "    \n",
    "    if board[x][y] == 0:\n",
    "        board[x][y] = player\n",
    "        \n",
    "board = create_board()\n",
    "\n",
    "place(board, 1, (0,0))"
   ]
  },
  {
   "cell_type": "markdown",
   "metadata": {},
   "source": [
    "# Exercise 3\n",
    "- Create a function possibilities(board) that returns a list of all positions (tuples) on the board that are not occupied (0). (Hint: numpy.where is a handy function that returns a list of indexes that meet a condition.)\n",
    "- board is already defined from previous exercises. Call possibilities(board) to see what it returns!"
   ]
  },
  {
   "cell_type": "code",
   "execution_count": null,
   "metadata": {
    "collapsed": true
   },
   "outputs": [],
   "source": [
    "import numpy\n",
    "def possibilities(board):\n",
    "    result = []\n",
    "    for i in range(3):\n",
    "        for j in range(3):\n",
    "            if board[j][i] == 0:\n",
    "                result.append( (j,i) )\n",
    "    return result\n",
    "    \n",
    "possibilities(board)"
   ]
  },
  {
   "cell_type": "markdown",
   "metadata": {},
   "source": [
    "# Exercise 4\n",
    "- Write a function random_place(board, player) that places a marker for the current player at random among all the available positions (those currently set to 0).\n",
    "- Find possible placements with possibilities(board).\n",
    "- Select one possible placement at random using random.choice(selection).\n",
    "- board is already defined from previous exercises. Call random_place(board, player) to place a random marker for Player 2, and store this as board to update its value."
   ]
  },
  {
   "cell_type": "code",
   "execution_count": null,
   "metadata": {
    "collapsed": true
   },
   "outputs": [],
   "source": [
    "# write your code here!\n",
    "\n",
    "def random_place(board, player):\n",
    "    available = possibilities(board)\n",
    "    choice = random.choice(available)\n",
    "    x = choice[0]\n",
    "    y = choice[1]\n",
    "    board[x][y] = player\n",
    "\n",
    "\n",
    "random_place(board, 2)"
   ]
  },
  {
   "cell_type": "markdown",
   "metadata": {},
   "source": [
    "# Exercise 5\n",
    "- board is already defined from previous exercises. Use random_place(board, player) to place three pieces on board each for players 1 and 2.\n",
    "- Print board to see your result."
   ]
  },
  {
   "cell_type": "code",
   "execution_count": null,
   "metadata": {
    "collapsed": true
   },
   "outputs": [],
   "source": [
    "board = create_board()\n",
    "for i in range(3):\n",
    "    for player in [1, 2]:\n",
    "        # add here!\n",
    "        random_place(board, player)\n",
    "\n",
    "print(board)"
   ]
  },
  {
   "cell_type": "markdown",
   "metadata": {},
   "source": [
    "# Exercise 6\n",
    "- Now that players may place their pieces, how will they know they've won? Make a function row_win(board, player) that takes the player (integer), and determines if any row consists of only their marker. Have it return True of this condition is met, and False otherwise.\n",
    "- board is already defined from previous exercises. Call row_win to check if Player 1 has a complete row."
   ]
  },
  {
   "cell_type": "code",
   "execution_count": null,
   "metadata": {
    "collapsed": true
   },
   "outputs": [],
   "source": [
    "# write your code here!\n",
    "\n",
    "def row_win(board, player):\n",
    "    if board[0][0] == player and board[0][1] == player and board[0][2] == player:\n",
    "        return True\n",
    "    if board[1][0] == player and board[1][1] == player and board[1][2] == player:\n",
    "        return True\n",
    "    if board[2][0] == player and board[2][1] == player and board[2][2] == player:\n",
    "        return True\n",
    "    return False\n",
    "\n",
    "row_win(board, 1)"
   ]
  },
  {
   "cell_type": "markdown",
   "metadata": {},
   "source": [
    "# Exercise 7\n",
    "- Create a similar function col_win(board, player) that takes the player (integer), and determines if any column consists of only their marker. Have it return True if this condition is met, and False otherwise.\n",
    "- board is already defined from previous exercises. Call col_win to check if Player 1 has a complete column."
   ]
  },
  {
   "cell_type": "code",
   "execution_count": null,
   "metadata": {
    "collapsed": true
   },
   "outputs": [],
   "source": [
    "# write your code here!\n",
    "\n",
    "def col_win(board, player):\n",
    "    if board[0][0] == player and board[1][0] == player and board[2][0] == player:\n",
    "        return True\n",
    "    if board[0][1] == player and board[1][1] == player and board[2][1] == player:\n",
    "        return True\n",
    "    if board[0][2] == player and board[1][2] == player and board[2][2] == player:\n",
    "        return True\n",
    "    return False\n",
    "\n",
    "col_win(board, 1)"
   ]
  },
  {
   "cell_type": "markdown",
   "metadata": {},
   "source": [
    "# Exercise 8\n",
    "- Finally, create a function diag_win(board, player) that tests if either diagonal of the board consists of only their marker. Have it return True if this condition is met, and False otherwise.\n",
    "- board is already defined from previous exercises. Call diag_win to check if Player 1 has a complete diagonal."
   ]
  },
  {
   "cell_type": "code",
   "execution_count": null,
   "metadata": {
    "collapsed": true
   },
   "outputs": [],
   "source": [
    "# write your code here!\n",
    "\n",
    "def diag_win(board, player):\n",
    "    if board[0][0] == player and board[1][1] == player and board[2][2] == player:\n",
    "        return True\n",
    "    if board[0][2] == player and board[1][1] == player and board[2][0] == player:\n",
    "        return True\n",
    "\n",
    "    return False\n",
    "    \n",
    "diag_win(board, 1)"
   ]
  },
  {
   "cell_type": "markdown",
   "metadata": {},
   "source": [
    "# Exercise 9\n",
    "- Create a function evaluate(board) that uses row_win, col_win, and diag_win functions for both players. If one of them has won, return that player's number. If the board is full but no one has won, return -1. Otherwise, return 0.\n",
    "- board is already defined from previous exercises. Call evaluate to see if either player has won the game yet.\n"
   ]
  },
  {
   "cell_type": "code",
   "execution_count": null,
   "metadata": {
    "collapsed": true
   },
   "outputs": [],
   "source": [
    "def evaluate(board):\n",
    "    winner = 0\n",
    "    for player in [1, 2]:\n",
    "        # Check if `row_win`, `col_win`, or `diag_win` apply.  if so, store `player` as `winner`.\n",
    "        if row_win(board, player):\n",
    "            winner = player\n",
    "        elif col_win(board, player):\n",
    "            winner = player\n",
    "        elif diag_win(board, player):\n",
    "            winner = player\n",
    "        else:\n",
    "            winner = 0\n",
    "    if np.all(board != 0) and winner == 0:\n",
    "        winner = -1\n",
    "    return winner\n",
    "\n",
    "# add your code here.\n",
    "\n",
    "evaluate(board)"
   ]
  },
  {
   "cell_type": "markdown",
   "metadata": {},
   "source": [
    "# Exercise 10\n",
    "- create_board(), random_place(board, player), and evaluate(board) have been created from previous exercises. Create a function play_game() that creates a board, calls alternates between two players (beginning with Player 1), and - evaluates the board for a winner after every placement. Play the game until one player wins (returning 1 or 2 to reflect the winning player), or the game is a draw (returning -1).\n",
    "- Call play_game once."
   ]
  },
  {
   "cell_type": "code",
   "execution_count": null,
   "metadata": {
    "collapsed": true
   },
   "outputs": [],
   "source": [
    "# write your code here!\n",
    "def play_game():\n",
    "    board = create_board()\n",
    "    \n",
    "    for i in range(3):\n",
    "        for player in [1,2]:\n",
    "            position = possibilities(board)\n",
    "            choice = random_place(board, player)\n",
    "            x = choice[0]\n",
    "            y = choice[1]\n",
    "            board[x][y] = player\n",
    "            if evaluate(board) != -1:\n",
    "                return evaluate(board)\n",
    "    return -1\n",
    "\n",
    "\n",
    "play_game()"
   ]
  },
  {
   "cell_type": "markdown",
   "metadata": {},
   "source": [
    "# Exercise 11\n",
    "- Use the play_game() function to play 1,000 random games, where Player 1 always goes first.\n",
    "- When doing this, import and use the time library to call the time function both before and after playing all 1,000 games in order to evaluate how long this takes per game. Print your answer.\n",
    "- The library matplotlib.pyplot has already been stored as plt. Use plt.hist and plt.show to plot a histogram of the results. Does Player 1 win more than Player 2? Does either player win more than each player draws?"
   ]
  },
  {
   "cell_type": "code",
   "execution_count": null,
   "metadata": {
    "collapsed": true
   },
   "outputs": [],
   "source": [
    "# write your code here!\n",
    "import time\n",
    "\n",
    "start_time = time.time()\n",
    "result = []\n",
    "\n",
    "for i in range(1000):\n",
    "    result.append(play_game())\n",
    "\n",
    "end_time = time.time()\n",
    "\n",
    "time = end_time - start_time\n",
    "\n",
    "plt.hist(result)\n",
    "plt.show()\n",
    "\n",
    "print (time)"
   ]
  },
  {
   "cell_type": "markdown",
   "metadata": {},
   "source": [
    "# Exercise 12\n",
    "- This result is expected --- when guessing at random, it's better to go first. Let's see if Player 1 can improve their strategy. create_board(), random_place(board, player), and evaluate(board) have been created from previous exercises. Create a function play_strategic_game(), where Player 1 always starts with the middle square, and otherwise both players place their markers randomly.\n",
    "- Call play_strategic_game once."
   ]
  },
  {
   "cell_type": "code",
   "execution_count": null,
   "metadata": {
    "collapsed": true
   },
   "outputs": [],
   "source": [
    "def play_strategic_game():\n",
    "    board, winner = create_board(), 0\n",
    "    board[1,1] = 1\n",
    "    while winner == 0:\n",
    "        for player in [2,1]:\n",
    "            # use `random_place` to play a game, and store as `board`.\n",
    "            # use `evaluate(board)`, and store as `winner`.\n",
    "            choice = random_place(board, player)\n",
    "            x = choice[0]\n",
    "            y = choice[1]\n",
    "            board[x][y] = player\n",
    "            winner = evaluate(board)\n",
    "            if winner != 0:\n",
    "                break\n",
    "    return winner\n",
    "\n",
    "play_strategic_game()  "
   ]
  },
  {
   "cell_type": "markdown",
   "metadata": {},
   "source": [
    "# Exercise 13\n",
    "- The results from Exercise 12 have been stored. Use the play_strategic_game() function to play 1,000 random games.\n",
    "- Use the time libary to evaluate how long all these games takes.\n",
    "- The library matplotlib.pyplot has already been stored as plt. Use plt.hist and plt.show to plot your results. Did Player 1's performance improve? Does either player win more than each player draws?\n"
   ]
  },
  {
   "cell_type": "code",
   "execution_count": null,
   "metadata": {
    "collapsed": true
   },
   "outputs": [],
   "source": [
    "# write your code here!\n",
    "\n",
    "import time\n",
    "result = []\n",
    "start_time = time.time()\n",
    "\n",
    "for i in range(1000):\n",
    "    result.append(play_strategic_game())\n",
    "\n",
    "end_time = time.time()\n",
    "\n",
    "time = end_time - start_time\n",
    "\n",
    "plt.hist(result)\n",
    "plt.show()\n",
    "\n",
    "print (time)"
   ]
  }
 ],
 "metadata": {
  "kernelspec": {
   "display_name": "Python 3",
   "language": "python",
   "name": "python3"
  },
  "language_info": {
   "codemirror_mode": {
    "name": "ipython",
    "version": 3
   },
   "file_extension": ".py",
   "mimetype": "text/x-python",
   "name": "python",
   "nbconvert_exporter": "python",
   "pygments_lexer": "ipython3",
   "version": "3.6.0"
  }
 },
 "nbformat": 4,
 "nbformat_minor": 2
}
